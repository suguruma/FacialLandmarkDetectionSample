{
 "cells": [
  {
   "cell_type": "code",
   "execution_count": 1,
   "metadata": {
    "collapsed": true
   },
   "outputs": [],
   "source": [
    "import sys\n",
    "import os\n",
    "import dlib\n",
    "import glob\n",
    "from skimage import io\n",
    "import time"
   ]
  },
  {
   "cell_type": "raw",
   "metadata": {},
   "source": [
    "if len(sys.argv) != 3:\n",
    "    print(\n",
    "        \"Give the path to the trained shape predictor model as the first \"\n",
    "        \"argument and then the directory containing the facial images.\\n\"\n",
    "        \"For example, if you are in the python_examples folder then \"\n",
    "        \"execute this program by running:\\n\"\n",
    "        \"    ./face_landmark_detection.py shape_predictor_68_face_landmarks.dat ../examples/faces\\n\"\n",
    "        \"You can download a trained facial shape predictor from:\\n\"\n",
    "        \"    http://dlib.net/files/shape_predictor_68_face_landmarks.dat.bz2\")\n",
    "    exit()"
   ]
  },
  {
   "cell_type": "raw",
   "metadata": {},
   "source": [
    "predictor_path = sys.argv[1]\n",
    "faces_folder_path = sys.argv[2]"
   ]
  },
  {
   "cell_type": "code",
   "execution_count": 11,
   "metadata": {
    "collapsed": true
   },
   "outputs": [],
   "source": [
    "predictor_path = './data/shape_predictor_68_face_landmarks.dat'\n",
    "faces_folder_path = './data'"
   ]
  },
  {
   "cell_type": "code",
   "execution_count": 12,
   "metadata": {},
   "outputs": [],
   "source": [
    "detector = dlib.get_frontal_face_detector()\n",
    "predictor = dlib.shape_predictor(predictor_path)"
   ]
  },
  {
   "cell_type": "code",
   "execution_count": 13,
   "metadata": {},
   "outputs": [
    {
     "name": "stdout",
     "output_type": "stream",
     "text": [
      "Processing file: ./data\\2007_007763.jpg\n",
      "Number of faces detected: 7\n",
      "Detection 0: Left: 93 Top: 194 Right: 129 Bottom: 230\n",
      "Part 0: (100, 208), Part 1: (100, 211) ...\n",
      "Detection 1: Left: 193 Top: 90 Right: 229 Bottom: 126\n",
      "Part 0: (201, 107), Part 1: (201, 110) ...\n",
      "Detection 2: Left: 293 Top: 86 Right: 329 Bottom: 122\n",
      "Part 0: (299, 102), Part 1: (299, 105) ...\n",
      "Detection 3: Left: 157 Top: 114 Right: 193 Bottom: 150\n",
      "Part 0: (165, 131), Part 1: (164, 134) ...\n",
      "Detection 4: Left: 177 Top: 214 Right: 213 Bottom: 250\n",
      "Part 0: (185, 224), Part 1: (184, 228) ...\n",
      "Detection 5: Left: 381 Top: 89 Right: 424 Bottom: 132\n",
      "Part 0: (393, 107), Part 1: (392, 111) ...\n",
      "Detection 6: Left: 309 Top: 233 Right: 352 Bottom: 276\n",
      "Part 0: (322, 245), Part 1: (320, 249) ...\n",
      "Processing file: ./data\\2008_002506.jpg\n",
      "Number of faces detected: 3\n",
      "Detection 0: Left: 115 Top: 56 Right: 223 Bottom: 163\n",
      "Part 0: (114, 92), Part 1: (112, 105) ...\n",
      "Detection 1: Left: 330 Top: 80 Right: 438 Bottom: 187\n",
      "Part 0: (343, 134), Part 1: (345, 145) ...\n",
      "Detection 2: Left: 225 Top: 96 Right: 315 Bottom: 186\n",
      "Part 0: (227, 134), Part 1: (229, 145) ...\n",
      "Processing file: ./data\\lena.jpg\n",
      "Number of faces detected: 1\n",
      "Detection 0: Left: 218 Top: 219 Right: 373 Bottom: 374\n",
      "Part 0: (210, 265), Part 1: (208, 289) ...\n"
     ]
    }
   ],
   "source": [
    "win = dlib.image_window()\n",
    "for f in glob.glob(os.path.join(faces_folder_path, \"*.jpg\")):\n",
    "    print(\"Processing file: {}\".format(f))\n",
    "    img = io.imread(f)\n",
    "\n",
    "    win.clear_overlay()\n",
    "    win.set_image(img)\n",
    "\n",
    "    # Ask the detector to find the bounding boxes of each face. The 1 in the\n",
    "    # second argument indicates that we should upsample the image 1 time. This\n",
    "    # will make everything bigger and allow us to detect more faces.\n",
    "    dets = detector(img, 1)\n",
    "    print(\"Number of faces detected: {}\".format(len(dets)))\n",
    "    for k, d in enumerate(dets):\n",
    "        print(\"Detection {}: Left: {} Top: {} Right: {} Bottom: {}\".format(\n",
    "            k, d.left(), d.top(), d.right(), d.bottom()))\n",
    "        # Get the landmarks/parts for the face in box d.\n",
    "        shape = predictor(img, d)\n",
    "        print(\"Part 0: {}, Part 1: {} ...\".format(shape.part(0),\n",
    "                                                  shape.part(1)))\n",
    "        # Draw the face landmarks on the screen.\n",
    "        win.add_overlay(shape)\n",
    "\n",
    "    win.add_overlay(dets)\n",
    "    dlib.hit_enter_to_continue()\n",
    "    time.sleep(5)"
   ]
  }
 ],
 "metadata": {
  "kernelspec": {
   "display_name": "Python 3",
   "language": "python",
   "name": "python3"
  },
  "language_info": {
   "codemirror_mode": {
    "name": "ipython",
    "version": 3
   },
   "file_extension": ".py",
   "mimetype": "text/x-python",
   "name": "python",
   "nbconvert_exporter": "python",
   "pygments_lexer": "ipython3",
   "version": "3.6.2"
  }
 },
 "nbformat": 4,
 "nbformat_minor": 2
}
